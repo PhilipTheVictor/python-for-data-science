{
 "cells": [
  {
   "cell_type": "code",
   "execution_count": 10,
   "metadata": {},
   "outputs": [
    {
     "name": "stdout",
     "output_type": "stream",
     "text": [
      "21.44127836209856\n",
      "Python for Data Science\n",
      "[1.71, 1.74, 1.68]\n",
      "['dad', 1.71, 'mom', 1.74, 'eve', 1.68]\n",
      "[['dad', 1.71], ['mom', 1.74], ['eve', 1.68]]\n",
      "<class 'list'>\n",
      "<class 'list'>\n"
     ]
    }
   ],
   "source": [
    "# calculating BMI\n",
    "\n",
    "height = 1.79\n",
    "weight = 68.7\n",
    "\n",
    "bmi = weight/(height**2)\n",
    "print(bmi)\n",
    "\n",
    "# checking type of BMI variable\n",
    "type(bmi)\n",
    "\n",
    "# strings in Python\n",
    "stringInPython = \"Python for Data Science\"\n",
    "print(stringInPython)\n",
    "\n",
    "# Lists are collection of values\n",
    "fam = [1.71,1.74,1.68]\n",
    "print(fam)\n",
    "\n",
    "# checking type of list\n",
    "type(fam)\n",
    "\n",
    "# strings and numbers together in a list\n",
    "famlist = ['dad', 1.71, 'mom', 1.74, 'eve', 1.68]\n",
    "\n",
    "# lists can contain a list inside\n",
    "famlist1 = [['dad',1.71],['mom',1.74],['eve',1.68]];\n",
    "\n",
    "print(famlist)\n",
    "print(famlist1)\n",
    "\n",
    "print(type(famlist))\n",
    "print(type(famlist1))"
   ]
  },
  {
   "cell_type": "code",
   "execution_count": null,
   "metadata": {
    "collapsed": true
   },
   "outputs": [],
   "source": []
  }
 ],
 "metadata": {
  "kernelspec": {
   "display_name": "Python 3",
   "language": "python",
   "name": "python3"
  },
  "language_info": {
   "codemirror_mode": {
    "name": "ipython",
    "version": 3
   },
   "file_extension": ".py",
   "mimetype": "text/x-python",
   "name": "python",
   "nbconvert_exporter": "python",
   "pygments_lexer": "ipython3",
   "version": "3.6.1"
  }
 },
 "nbformat": 4,
 "nbformat_minor": 2
}
