{
 "cells": [
  {
   "cell_type": "code",
   "execution_count": 10,
   "metadata": {},
   "outputs": [
    {
     "name": "stdout",
     "output_type": "stream",
     "text": [
      "21.44127836209856\n",
      "Python for Data Science\n",
      "[1.71, 1.74, 1.68]\n",
      "['dad', 1.71, 'mom', 1.74, 'eve', 1.68]\n",
      "[['dad', 1.71], ['mom', 1.74], ['eve', 1.68]]\n",
      "<class 'list'>\n",
      "<class 'list'>\n",
      "dad\n",
      "1.68\n",
      "['dad', 1.71, 'mom', 1.74]\n",
      "['dad', 1.71, 'mom', 1.74]\n",
      "['eve', 1.68]\n"
     ]
    }
   ],
   "source": [
    "## Basic Python\n",
    "\n",
    "# calculating BMI\n",
    "\n",
    "height = 1.79\n",
    "weight = 68.7\n",
    "\n",
    "bmi = weight/(height**2)\n",
    "print(bmi)\n",
    "\n",
    "# checking type of BMI variable\n",
    "type(bmi)\n",
    "\n",
    "# strings in Python\n",
    "stringInPython = \"Python for Data Science\"\n",
    "print(stringInPython)\n",
    "\n",
    "## Python Lists\n",
    "\n",
    "# Lists are collection of values\n",
    "fam = [1.71,1.74,1.68]\n",
    "print(fam)\n",
    "\n",
    "# checking type of list\n",
    "type(fam)\n",
    "\n",
    "# strings and numbers together in a list\n",
    "famlist = ['dad', 1.71, 'mom', 1.74, 'eve', 1.68]\n",
    "\n",
    "# lists can contain a list inside\n",
    "famlist1 = [['dad',1.71],['mom',1.74],['eve',1.68]];\n",
    "\n",
    "print(famlist)\n",
    "print(famlist1)\n",
    "\n",
    "print(type(famlist))\n",
    "print(type(famlist1))\n",
    "\n",
    "## Accessing Lists\n",
    "\n",
    "# accessing zeroth index member of list\n",
    "print(famlist[0])\n",
    "\n",
    "# accessing last member of list\n",
    "print(famlist[-1])\n",
    "\n",
    "# accessing member for zeroth index member to fourth index member of list\n",
    "print(famlist[0:4])\n",
    "\n",
    "# or\n",
    "print(famlist[:4])\n",
    "\n",
    "# accessing fourth index member till last index member of list\n",
    "print(famlist[4:])"
   ]
  },
  {
   "cell_type": "code",
   "execution_count": 21,
   "metadata": {},
   "outputs": [
    {
     "name": "stdout",
     "output_type": "stream",
     "text": [
      "['dad', 1.74, 'mom', 1.74, 'eve', 1.71, 'adam', 1.68]\n",
      "['dad', 1.74, 'mom', 1.74, 'eve', 1.71, 'adam', 1.68]\n",
      "['dad', 1.74, 'mom', 1.74, 'eve', 1.71]\n"
     ]
    }
   ],
   "source": [
    "## Manipulating Lists\n",
    "\n",
    "# overwriting members\n",
    "famlist[0:2] = ['dad',1.74]\n",
    "print(famlist)\n",
    "\n",
    "# adding members\n",
    "famlist[6:] = ['adam', 1.68]\n",
    "print(famlist)\n",
    "\n",
    "# deleting members\n",
    "del(famlist[6:])\n",
    "print(famlist)"
   ]
  },
  {
   "cell_type": "code",
   "execution_count": 25,
   "metadata": {},
   "outputs": [
    {
     "name": "stdout",
     "output_type": "stream",
     "text": [
      "1.74\n",
      "1.7\n"
     ]
    }
   ],
   "source": [
    "## Functions\n",
    "\n",
    "numHeight = [1.74, 1.71, 1.68]\n",
    "\n",
    "# using pre defined function max() to find max number in a list\n",
    "maxNum = max(numHeight)\n",
    "print(maxNum)\n",
    "\n",
    "# using pre defined function round() to round numbers to user defined decimal places\n",
    "roundedNum = round(maxNum, 1)\n",
    "print(roundedNum)"
   ]
  },
  {
   "cell_type": "code",
   "execution_count": null,
   "metadata": {
    "collapsed": true
   },
   "outputs": [],
   "source": []
  }
 ],
 "metadata": {
  "kernelspec": {
   "display_name": "Python 3",
   "language": "python",
   "name": "python3"
  },
  "language_info": {
   "codemirror_mode": {
    "name": "ipython",
    "version": 3
   },
   "file_extension": ".py",
   "mimetype": "text/x-python",
   "name": "python",
   "nbconvert_exporter": "python",
   "pygments_lexer": "ipython3",
   "version": "3.6.1"
  }
 },
 "nbformat": 4,
 "nbformat_minor": 2
}
