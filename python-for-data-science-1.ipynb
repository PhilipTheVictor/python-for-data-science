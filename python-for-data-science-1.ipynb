{
 "cells": [
  {
   "cell_type": "code",
   "execution_count": 10,
   "metadata": {},
   "outputs": [
    {
     "name": "stdout",
     "output_type": "stream",
     "text": [
      "21.44127836209856\n",
      "Python for Data Science\n",
      "[1.71, 1.74, 1.68]\n",
      "['dad', 1.71, 'mom', 1.74, 'eve', 1.68]\n",
      "[['dad', 1.71], ['mom', 1.74], ['eve', 1.68]]\n",
      "<class 'list'>\n",
      "<class 'list'>\n",
      "dad\n",
      "1.68\n",
      "['dad', 1.71, 'mom', 1.74]\n",
      "['dad', 1.71, 'mom', 1.74]\n",
      "['eve', 1.68]\n"
     ]
    }
   ],
   "source": [
    "## Basic Python\n",
    "\n",
    "# calculating BMI\n",
    "\n",
    "height = 1.79\n",
    "weight = 68.7\n",
    "\n",
    "bmi = weight/(height**2)\n",
    "print(bmi)\n",
    "\n",
    "# checking type of BMI variable\n",
    "type(bmi)\n",
    "\n",
    "# strings in Python\n",
    "stringInPython = \"Python for Data Science\"\n",
    "print(stringInPython)\n",
    "\n",
    "## Python Lists\n",
    "\n",
    "# Lists are collection of values\n",
    "fam = [1.71,1.74,1.68]\n",
    "print(fam)\n",
    "\n",
    "# checking type of list\n",
    "type(fam)\n",
    "\n",
    "# strings and numbers together in a list\n",
    "famlist = ['dad', 1.71, 'mom', 1.74, 'eve', 1.68]\n",
    "\n",
    "# lists can contain a list inside\n",
    "famlist1 = [['dad',1.71],['mom',1.74],['eve',1.68]];\n",
    "\n",
    "print(famlist)\n",
    "print(famlist1)\n",
    "\n",
    "print(type(famlist))\n",
    "print(type(famlist1))\n",
    "\n",
    "## Accessing Lists\n",
    "\n",
    "# accessing zeroth index member of list\n",
    "print(famlist[0])\n",
    "\n",
    "# accessing last member of list\n",
    "print(famlist[-1])\n",
    "\n",
    "# accessing member for zeroth index member to fourth index member of list\n",
    "print(famlist[0:4])\n",
    "\n",
    "# or\n",
    "print(famlist[:4])\n",
    "\n",
    "# accessing fourth index member till last index member of list\n",
    "print(famlist[4:])"
   ]
  },
  {
   "cell_type": "code",
   "execution_count": 21,
   "metadata": {},
   "outputs": [
    {
     "name": "stdout",
     "output_type": "stream",
     "text": [
      "['dad', 1.74, 'mom', 1.74, 'eve', 1.71, 'adam', 1.68]\n",
      "['dad', 1.74, 'mom', 1.74, 'eve', 1.71, 'adam', 1.68]\n",
      "['dad', 1.74, 'mom', 1.74, 'eve', 1.71]\n"
     ]
    }
   ],
   "source": [
    "## Manipulating Lists\n",
    "\n",
    "# overwriting members\n",
    "famlist[0:2] = ['dad',1.74]\n",
    "print(famlist)\n",
    "\n",
    "# adding members\n",
    "famlist[6:] = ['adam', 1.68]\n",
    "print(famlist)\n",
    "\n",
    "# deleting members\n",
    "del(famlist[6:])\n",
    "print(famlist)"
   ]
  },
  {
   "cell_type": "code",
   "execution_count": 25,
   "metadata": {},
   "outputs": [
    {
     "name": "stdout",
     "output_type": "stream",
     "text": [
      "1.74\n",
      "1.7\n"
     ]
    }
   ],
   "source": [
    "## Functions\n",
    "\n",
    "numHeight = [1.74, 1.71, 1.68]\n",
    "\n",
    "# using pre defined function max() to find max number in a list\n",
    "maxNum = max(numHeight)\n",
    "print(maxNum)\n",
    "\n",
    "# using pre defined function round() to round numbers to user defined decimal places\n",
    "roundedNum = round(maxNum, 1)\n",
    "print(roundedNum)"
   ]
  },
  {
   "cell_type": "code",
   "execution_count": 2,
   "metadata": {},
   "outputs": [
    {
     "name": "stdout",
     "output_type": "stream",
     "text": [
      "[ 22.36585616  18.2983221   20.40816327]\n"
     ]
    }
   ],
   "source": [
    "## Numpy\n",
    "\n",
    "import numpy as np\n",
    "\n",
    "# python list for height\n",
    "height = [1.71,1.74,1.68]\n",
    "\n",
    "# converting python list into a numpy array \n",
    "np_height = np.array(height)\n",
    "\n",
    "# python list for weight\n",
    "weight = [65.4, 55.4, 57.6]\n",
    "\n",
    "# converting python list into a numpy array \n",
    "np_weight = np.array(weight)\n",
    "\n",
    "# calculating bmi for whole list\n",
    "bmi = np_weight / np_height ** 2\n",
    "\n",
    "# print bmi\n",
    "print(bmi)\n"
   ]
  },
  {
   "cell_type": "code",
   "execution_count": 5,
   "metadata": {},
   "outputs": [
    {
     "data": {
      "text/plain": [
       "array([ 22.36585616,  20.40816327])"
      ]
     },
     "execution_count": 5,
     "metadata": {},
     "output_type": "execute_result"
    }
   ],
   "source": [
    "# checking which members of array are greater than 20\n",
    "\n",
    "bmi > 20\n",
    "\n",
    "# printing the array members which are above 20\n",
    "bmi[bmi > 20]"
   ]
  },
  {
   "cell_type": "code",
   "execution_count": 6,
   "metadata": {},
   "outputs": [
    {
     "name": "stdout",
     "output_type": "stream",
     "text": [
      "[1.71, 1.74, 1.68, 1.71, 1.74, 1.68]\n"
     ]
    }
   ],
   "source": [
    "## Difference between python lists and numpy arrays\n",
    "\n",
    "# python list will be concatenated when using + operator\n",
    "height_py = height + height\n",
    "\n",
    "# printing python list\n",
    "print(height_py)\n",
    "\n",
    "# numpy arrays members will be added element wise when using + operator\n",
    "height_np = np_height + np_height"
   ]
  }
 ],
 "metadata": {
  "kernelspec": {
   "display_name": "Python 3",
   "language": "python",
   "name": "python3"
  },
  "language_info": {
   "codemirror_mode": {
    "name": "ipython",
    "version": 3
   },
   "file_extension": ".py",
   "mimetype": "text/x-python",
   "name": "python",
   "nbconvert_exporter": "python",
   "pygments_lexer": "ipython3",
   "version": "3.6.1"
  }
 },
 "nbformat": 4,
 "nbformat_minor": 2
}
